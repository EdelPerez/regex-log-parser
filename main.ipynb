{
 "cells": [
  {
   "cell_type": "markdown",
   "metadata": {},
   "source": [
    "# Parsing Logs with Python and Regexp"
   ]
  },
  {
   "cell_type": "code",
   "execution_count": 1,
   "metadata": {},
   "outputs": [],
   "source": [
    "import re\n",
    "import pandas as pd"
   ]
  },
  {
   "cell_type": "markdown",
   "metadata": {},
   "source": [
    "### What is a regex (regular expression)\n",
    "\n",
    "A regular expression (shortened as regex or regexp; also referred to as rational expression) is a sequence of characters that specifies a search pattern. Usually such patterns are used by string-searching algorithms for \"find\" or \"find and replace\" operations on strings, or for input validation. It is a technique developed in theoretical computer science and formal language theory.<sub>[<a href='https://en.wikipedia.org/wiki/Regular_expression'>Wikipedia</a>]</sub>"
   ]
  },
  {
   "cell_type": "markdown",
   "metadata": {},
   "source": [
    "<b><a href='https://pythex.org'>Python Regular Expression Editor</a></b> can be used to build regular expression code. The website provides an easy to understand view of regex code selection."
   ]
  },
  {
   "cell_type": "code",
   "execution_count": 2,
   "metadata": {},
   "outputs": [],
   "source": [
    "def log_to_data_frame(file: str, regex: str, columns: list) -> pd.DataFrame:\n",
    "    df = pd.DataFrame(columns=columns)\n",
    "\n",
    "    with open(file, mode='r', encoding='utf8', newline='') as log:\n",
    "        for line in log:\n",
    "            data = log.readline().replace('\\n', ' ').strip()\n",
    "            \n",
    "            try:\n",
    "                row = re.compile(regex).findall(data)\n",
    "            except:\n",
    "                print('Unable to parse string.')\n",
    "            else:\n",
    "                df = pd.concat(\n",
    "                    [\n",
    "                        df,\n",
    "                        pd.DataFrame(\n",
    "                            row,\n",
    "                            columns=['DateTime', 'Caller', 'Task', 'Code', 'Detail']\n",
    "                        )\n",
    "                    ], ignore_index=True\n",
    "                )\n",
    "\n",
    "    return df"
   ]
  },
  {
   "cell_type": "code",
   "execution_count": 3,
   "metadata": {},
   "outputs": [],
   "source": [
    "regex = r'(\\d{4}-\\d{2}-\\d{2}\\s\\d{2}:\\d{2}:\\d{2}-\\d{2})\\s([\\w-]+)\\s([a-zA-Z0-9_ ]*)\\[([\\d]*)\\]:\\s(.*)'\n",
    "columns = ['DateTime', 'Caller', 'Task', 'Code', 'Detail']\n",
    "file = 'install.log'\n",
    "\n",
    "df = log_to_data_frame(file, regex, columns)"
   ]
  },
  {
   "cell_type": "code",
   "execution_count": 4,
   "metadata": {},
   "outputs": [
    {
     "data": {
      "text/html": [
       "<div>\n",
       "<style scoped>\n",
       "    .dataframe tbody tr th:only-of-type {\n",
       "        vertical-align: middle;\n",
       "    }\n",
       "\n",
       "    .dataframe tbody tr th {\n",
       "        vertical-align: top;\n",
       "    }\n",
       "\n",
       "    .dataframe thead th {\n",
       "        text-align: right;\n",
       "    }\n",
       "</style>\n",
       "<table border=\"1\" class=\"dataframe\">\n",
       "  <thead>\n",
       "    <tr style=\"text-align: right;\">\n",
       "      <th></th>\n",
       "      <th>DateTime</th>\n",
       "      <th>Caller</th>\n",
       "      <th>Task</th>\n",
       "      <th>Code</th>\n",
       "      <th>Detail</th>\n",
       "    </tr>\n",
       "  </thead>\n",
       "  <tbody>\n",
       "    <tr>\n",
       "      <th>0</th>\n",
       "      <td>2020-12-14 10:54:21-08</td>\n",
       "      <td>localhost</td>\n",
       "      <td>softwareupdate_firstrun_tasks</td>\n",
       "      <td>198</td>\n",
       "      <td>Rebuilding Tag-Cache inside of ProductMetadata...</td>\n",
       "    </tr>\n",
       "    <tr>\n",
       "      <th>1</th>\n",
       "      <td>2020-12-14 10:54:22-08</td>\n",
       "      <td>localhost</td>\n",
       "      <td>softwareupdated</td>\n",
       "      <td>230</td>\n",
       "      <td>Initializing SoftwareUpdateMacController (SUMa...</td>\n",
       "    </tr>\n",
       "    <tr>\n",
       "      <th>2</th>\n",
       "      <td>2020-12-14 10:54:22-08</td>\n",
       "      <td>localhost</td>\n",
       "      <td>softwareupdated</td>\n",
       "      <td>230</td>\n",
       "      <td>SUOSUAlarmObserver: Setting alarm event stream...</td>\n",
       "    </tr>\n",
       "    <tr>\n",
       "      <th>3</th>\n",
       "      <td>2020-12-14 10:54:23-08</td>\n",
       "      <td>localhost</td>\n",
       "      <td>softwareupdated</td>\n",
       "      <td>230</td>\n",
       "      <td>SUOSUServiceDaemon: Error reading /var/folders...</td>\n",
       "    </tr>\n",
       "    <tr>\n",
       "      <th>4</th>\n",
       "      <td>2020-12-14 10:54:23-08</td>\n",
       "      <td>localhost</td>\n",
       "      <td>softwareupdated</td>\n",
       "      <td>230</td>\n",
       "      <td>authorizeWithEmptyAuthorizationForRights: Requ...</td>\n",
       "    </tr>\n",
       "    <tr>\n",
       "      <th>5</th>\n",
       "      <td>2020-12-14 10:54:23-08</td>\n",
       "      <td>localhost</td>\n",
       "      <td>softwareupdated</td>\n",
       "      <td>230</td>\n",
       "      <td>Previous System Version : (null), Current Syst...</td>\n",
       "    </tr>\n",
       "    <tr>\n",
       "      <th>6</th>\n",
       "      <td>2020-12-14 10:54:24-08</td>\n",
       "      <td>localhost</td>\n",
       "      <td>softwareupdated</td>\n",
       "      <td>230</td>\n",
       "      <td>SUStatisticsManager: Successfully reported sta...</td>\n",
       "    </tr>\n",
       "    <tr>\n",
       "      <th>7</th>\n",
       "      <td>2020-12-14 10:54:24-08</td>\n",
       "      <td>localhost</td>\n",
       "      <td>softwareupdated</td>\n",
       "      <td>230</td>\n",
       "      <td>BackgroundActivity: Scheduling one-time backgr...</td>\n",
       "    </tr>\n",
       "    <tr>\n",
       "      <th>8</th>\n",
       "      <td>2020-12-14 10:54:25-08</td>\n",
       "      <td>MacBook-Air</td>\n",
       "      <td>Language Chooser</td>\n",
       "      <td>192</td>\n",
       "      <td>LCA: No networks found in Wifi scan.</td>\n",
       "    </tr>\n",
       "    <tr>\n",
       "      <th>9</th>\n",
       "      <td>2020-12-14 10:54:25-08</td>\n",
       "      <td>MacBook-Air</td>\n",
       "      <td>Installer Progress</td>\n",
       "      <td>52</td>\n",
       "      <td>IASGetCurrentInstallPhase: Unable to get the c...</td>\n",
       "    </tr>\n",
       "  </tbody>\n",
       "</table>\n",
       "</div>"
      ],
      "text/plain": [
       "                 DateTime       Caller                           Task Code  \\\n",
       "0  2020-12-14 10:54:21-08    localhost  softwareupdate_firstrun_tasks  198   \n",
       "1  2020-12-14 10:54:22-08    localhost                softwareupdated  230   \n",
       "2  2020-12-14 10:54:22-08    localhost                softwareupdated  230   \n",
       "3  2020-12-14 10:54:23-08    localhost                softwareupdated  230   \n",
       "4  2020-12-14 10:54:23-08    localhost                softwareupdated  230   \n",
       "5  2020-12-14 10:54:23-08    localhost                softwareupdated  230   \n",
       "6  2020-12-14 10:54:24-08    localhost                softwareupdated  230   \n",
       "7  2020-12-14 10:54:24-08    localhost                softwareupdated  230   \n",
       "8  2020-12-14 10:54:25-08  MacBook-Air               Language Chooser  192   \n",
       "9  2020-12-14 10:54:25-08  MacBook-Air             Installer Progress   52   \n",
       "\n",
       "                                              Detail  \n",
       "0  Rebuilding Tag-Cache inside of ProductMetadata...  \n",
       "1  Initializing SoftwareUpdateMacController (SUMa...  \n",
       "2  SUOSUAlarmObserver: Setting alarm event stream...  \n",
       "3  SUOSUServiceDaemon: Error reading /var/folders...  \n",
       "4  authorizeWithEmptyAuthorizationForRights: Requ...  \n",
       "5  Previous System Version : (null), Current Syst...  \n",
       "6  SUStatisticsManager: Successfully reported sta...  \n",
       "7  BackgroundActivity: Scheduling one-time backgr...  \n",
       "8               LCA: No networks found in Wifi scan.  \n",
       "9  IASGetCurrentInstallPhase: Unable to get the c...  "
      ]
     },
     "execution_count": 4,
     "metadata": {},
     "output_type": "execute_result"
    }
   ],
   "source": [
    "df.head(10)"
   ]
  },
  {
   "cell_type": "code",
   "execution_count": 5,
   "metadata": {},
   "outputs": [],
   "source": [
    "df.to_csv('output.csv',index=False)"
   ]
  }
 ],
 "metadata": {
  "interpreter": {
   "hash": "c48eaff9ffefc7a79b8f9bd849653feccc75b74f3b8b27752054b83dfea85b2f"
  },
  "kernelspec": {
   "display_name": "Python 3.9.5 64-bit ('venv': venv)",
   "name": "python3"
  },
  "language_info": {
   "codemirror_mode": {
    "name": "ipython",
    "version": 3
   },
   "file_extension": ".py",
   "mimetype": "text/x-python",
   "name": "python",
   "nbconvert_exporter": "python",
   "pygments_lexer": "ipython3",
   "version": "3.9.5"
  },
  "orig_nbformat": 4
 },
 "nbformat": 4,
 "nbformat_minor": 2
}
